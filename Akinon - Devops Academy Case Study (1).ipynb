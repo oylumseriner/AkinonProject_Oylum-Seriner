{
 "cells": [
  {
   "cell_type": "code",
   "execution_count": 1,
   "metadata": {},
   "outputs": [
    {
     "name": "stdout",
     "output_type": "stream",
     "text": [
      "Enter number of elements : 5\n",
      "F(5)= 5\n"
     ]
    }
   ],
   "source": [
    "#Exercise1\n",
    "#Fibonacci -- > F_n=F_{n-1}+F_{n-2}\n",
    "def F(n):\n",
    "    #There are initial values.\n",
    "    a = 0\n",
    "    b = 1\n",
    "    result = [a,b]\n",
    "    for i in range(n):\n",
    "        c = a + b\n",
    "        a = b\n",
    "        b = c\n",
    "        result.append(c)\n",
    "    return (result[n])\n",
    "n = int(input(\"Enter number of elements : \"))\n",
    "print(\"F({})=\".format(n),F(n))\n",
    "\n",
    "\n",
    "\n",
    "           "
   ]
  },
  {
   "cell_type": "code",
   "execution_count": 5,
   "metadata": {},
   "outputs": [
    {
     "name": "stdout",
     "output_type": "stream",
     "text": [
      "Enter number of elements for m : 2\n",
      "Enter number of elements for n : 2\n",
      "A((2, 2))= 7\n"
     ]
    }
   ],
   "source": [
    "#Exercise2\n",
    "def A(m,n):\n",
    "    if m == 0:\n",
    "        return (n+1)\n",
    "    elif m > 0 and n == 0:\n",
    "        return(A(m-1,1))\n",
    "    elif m > 0 and n > 0:\n",
    "        return (A(m-1 , A(m,n-1)))\n",
    "m = int(input(\"Enter number of elements for m : \"))\n",
    "n = int(input(\"Enter number of elements for n : \"))\n",
    "print(\"A({})=\".format((m,n)),A(m,n))"
   ]
  },
  {
   "cell_type": "code",
   "execution_count": 3,
   "metadata": {},
   "outputs": [
    {
     "name": "stdout",
     "output_type": "stream",
     "text": [
      "Enter number of elements: 3\n",
      "3!= 6\n"
     ]
    }
   ],
   "source": [
    "#Exercise3\n",
    "import math\n",
    "import numpy as np\n",
    "x = int(input(\"Enter number of elements: \"))\n",
    "if n < 0:\n",
    "    print (\"Invalid number!!!\")\n",
    "else:\n",
    "    print(\"{}!=\".format(x),(math.prod(np.arange(1,x+1))))\n",
    "   \n"
   ]
  }
 ],
 "metadata": {
  "kernelspec": {
   "display_name": "Python 3",
   "language": "python",
   "name": "python3"
  },
  "language_info": {
   "codemirror_mode": {
    "name": "ipython",
    "version": 3
   },
   "file_extension": ".py",
   "mimetype": "text/x-python",
   "name": "python",
   "nbconvert_exporter": "python",
   "pygments_lexer": "ipython3",
   "version": "3.8.5"
  }
 },
 "nbformat": 4,
 "nbformat_minor": 4
}
